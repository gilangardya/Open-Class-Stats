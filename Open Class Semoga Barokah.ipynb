{
 "cells": [
  {
   "cell_type": "markdown",
   "metadata": {},
   "source": [
    "# Descriptive Statistics #\n",
    "\n",
    "Sebutlah saya memiliki data. Saya tahu seperti apa secara umum tentang data ini.\n",
    "Adakah cara untuk menjelaskan informasi umum dari data ini? Ada, yaitu dengan yang disebut dengan ___Descriptive Statistics___.\n",
    "\n",
    "Berikut yang biasanya ada di dalam _Descriptive Statistics_:\n",
    "\n",
    "* __Center__ (Untuk mengetahui nilai tengah dari data)\n",
    "    * Mean\n",
    "    * Median\n",
    "    * Mode\n",
    "    \n",
    "    \n",
    "* __Spread__ (Untuk mengetahui seberapa tersebar sih datanya)\n",
    "    * Variance\n",
    "    * Std. Deviation\n",
    "    * Range\n",
    "    * Percentiles\n",
    "    \n",
    "    \n",
    "* __Form__\n",
    "    * Skewness\n",
    "    * Kurtosis\n",
    "---\n",
    "## (Arithmetic) Mean ##\n",
    "Didefinisikan sebagai jumlah dari tiap-tiap pengamatan dibagi jumlah total pengamatan (bahasa Indonesia memang membingungkan):\n",
    "\n",
    "$$\\bar{x} = \\frac{\\sum_{i=1}^n x_i}{n}$$\n",
    "\n",
    "dimana $x_1, x_2, \\ldots , x_n$ adalah pengamatan kita.\n"
   ]
  },
  {
   "cell_type": "code",
   "execution_count": 132,
   "metadata": {},
   "outputs": [
    {
     "name": "stdout",
     "output_type": "stream",
     "text": [
      "Mean: 85.2\n",
      "Mean using np: 85.2\n",
      "Mean2: 77.45454545454545\n"
     ]
    }
   ],
   "source": [
    "import numpy as np\n",
    "nilai = [80,90,95,84,85,88,80,83,80,87]\n",
    "print (\"Mean: {}\".format())\n",
    "print (\"Mean using np: \" + str(np.mean(nilai)))\n",
    "\n",
    "nilai2 = nilai + [0]\n",
    "print(\"Mean2: {}\".format(np.mean(nilai2)))"
   ]
  },
  {
   "cell_type": "markdown",
   "metadata": {},
   "source": [
    "## Median ##\n",
    "\n",
    "Median dari suatu data adalah nilai yang berada ditengah-tengah data ketika data itu terurut. Jika banyaknya data merupakan bilangan ganjil $n$, maka mediannya adalah nilai pada posisi $(n+1)/2$. Sedangkan bila data merupakan bilangan genap $m$ maka mediannya merupaka rata-rata dari nilai pada posisi $n/2$ dan $(n+2)/2$."
   ]
  },
  {
   "cell_type": "code",
   "execution_count": 134,
   "metadata": {},
   "outputs": [
    {
     "name": "stdout",
     "output_type": "stream",
     "text": [
      "Median: 84.5\n",
      "Median2: 84.0\n"
     ]
    }
   ],
   "source": [
    "print(\"Median: {}\".format(np.median(nilai)))\n",
    "print(\"Median2: {}\".format(np.median(nilai2)))"
   ]
  },
  {
   "cell_type": "markdown",
   "metadata": {},
   "source": [
    "## Mode ##\n",
    "Modus dari suatu data adalah nilai yang paling sering muncul pada data tersebut."
   ]
  },
  {
   "cell_type": "code",
   "execution_count": 140,
   "metadata": {},
   "outputs": [
    {
     "name": "stdout",
     "output_type": "stream",
     "text": [
      "Mode: 80\n",
      "Mode2: 80\n"
     ]
    }
   ],
   "source": [
    "from scipy import stats\n",
    "print(\"Mode: {}\".format(stats.mode(nilai)[0][0]))\n",
    "print(\"Mode2: {}\".format(stats.mode(nilai2)[0][0]))"
   ]
  },
  {
   "cell_type": "markdown",
   "metadata": {},
   "source": [
    "## Range ##\n",
    "Range didefinisikan sebagai selisih dari nilai maximum dan nilai minimum pada data."
   ]
  },
  {
   "cell_type": "code",
   "execution_count": 141,
   "metadata": {},
   "outputs": [
    {
     "name": "stdout",
     "output_type": "stream",
     "text": [
      "Range: 15\n",
      "Range2: 95\n"
     ]
    }
   ],
   "source": [
    "print(\"Range: {}\".format(np.ptp(nilai)))\n",
    "print(\"Range2: {}\".format(np.ptp(nilai2)))"
   ]
  },
  {
   "cell_type": "markdown",
   "metadata": {},
   "source": [
    "## Variance dan Standard Deviation ##\n",
    "Variance didefinisikan sebagai nilai rata-rata dari kuadrat deviasi data di sekitar mean:\n",
    "$$\\sigma^2 = \\frac{\\sum_{i=1}^n(x_i - \\bar{x})^2}{n}$$\n",
    "\n",
    "Standard Deviasi didefinisikan sebagai akar dari variance:\n",
    "$$\\sigma = \\sqrt{\\sigma^2}$$\n",
    "atau\n",
    "$$\\sigma = \\sqrt{\\frac{\\sum_{i=1}^n(x_i - \\bar{x})^2}{n}}$$"
   ]
  },
  {
   "cell_type": "code",
   "execution_count": 144,
   "metadata": {},
   "outputs": [
    {
     "name": "stdout",
     "output_type": "stream",
     "text": [
      "Variance & Std I: 21.759999999999998, 4.66476151587624\n",
      "Variance & Std II: 619.7024793388429, 24.893824120428803\n"
     ]
    }
   ],
   "source": [
    "variance1 = np.var(nilai)\n",
    "std1 = np.std(nilai)\n",
    "variance2 = np.var(nilai2)\n",
    "std2 = np.std(nilai2)\n",
    "\n",
    "print(\"Variance & Std I: {}, {}\".format(variance1, std1)) \n",
    "print(\"Variance & Std II: {}, {}\".format(variance2, std2))"
   ]
  },
  {
   "cell_type": "markdown",
   "metadata": {},
   "source": [
    "## Cara cepat Pakai Pandas ##"
   ]
  },
  {
   "cell_type": "code",
   "execution_count": 150,
   "metadata": {},
   "outputs": [
    {
     "name": "stdout",
     "output_type": "stream",
     "text": [
      "          nilai\n",
      "count  10.00000\n",
      "mean   85.20000\n",
      "std     4.91709\n",
      "min    80.00000\n",
      "25%    80.75000\n",
      "50%    84.50000\n",
      "75%    87.75000\n",
      "max    95.00000\n",
      "-------------------------------\n",
      "          nilai2\n",
      "count  11.000000\n",
      "mean   77.454545\n",
      "std    26.108863\n",
      "min     0.000000\n",
      "25%    80.000000\n",
      "50%    84.000000\n",
      "75%    87.500000\n",
      "max    95.000000\n"
     ]
    }
   ],
   "source": [
    "import pandas as pd\n",
    "\n",
    "data1 = pd.DataFrame({'nilai':nilai})\n",
    "data2 = pd.DataFrame({'nilai2':nilai2})\n",
    "print(data1.describe())\n",
    "print(\"-------------------------------\")\n",
    "print(data2.describe())"
   ]
  },
  {
   "cell_type": "markdown",
   "metadata": {},
   "source": [
    "# Distribution #\n",
    "\n",
    "Distribusi sebuah data adalah fungsi yang menunjukan semua nilai yang mungkin (_interval_) dan seberapa sering nilai itu muncul.\n",
    "\n",
    "---\n",
    "## Probability Mass Fucntion (PMF) ##\n",
    "Sebuah fungsi yang memberikan nilai peluang dari sebuah variabel acak sama dengan suatu nilai.\n",
    "Misalkan $X$ adalah sebuah variabel acak diskrit yang didefiniskan pada ruang sample $R$, maka fungsi PMF $f_X$ dari $X$ didefiniskan sebagai berikut:\n",
    "\n",
    "$$ f_X(x)= P(X=x) = P({{s \\in S : X(s) = x}})$$\n",
    "---\n",
    "## Cumulative distribution function ##\n",
    "CDF dari sebuah nilai acak X adalah fungsi:\n",
    "\n",
    "$$ F_X(x) = P(X \\le x)$$"
   ]
  },
  {
   "cell_type": "markdown",
   "metadata": {
    "collapsed": true
   },
   "source": [
    "## Types of Distribution ##\n",
    "* Discrete\n",
    "    * Binomial\n",
    "    * Poisson\n",
    "* Continuous\n",
    "    * Normal\n",
    "    * Chi-Squared\n",
    "    \n",
    "---\n",
    "## Discrete Dist (Binomial) ##\n",
    "### PMF ###\n",
    "$$ f(k;n,p) = P(X = k) = \\binom{n}{k} \\cdot p^k(1-p)^{n-k} $$\n",
    "### CDF ###\n",
    "$$ F(k;n,p) = P(X \\le k) = \\sum_{i=0}^k \\binom{n}{i} \\cdot p^i(1-p)^{n-i}$$"
   ]
  },
  {
   "cell_type": "code",
   "execution_count": 99,
   "metadata": {
    "collapsed": true
   },
   "outputs": [],
   "source": [
    "import random\n",
    "\n",
    "N = 40\n",
    "\n",
    "coin_toss =[0]*(N+1)\n",
    "\n",
    "def coin_simulation(n):\n",
    "    total = 0\n",
    "    for i in range(n):\n",
    "        head = random.randint(0,1)\n",
    "        total += head\n",
    "    return total"
   ]
  },
  {
   "cell_type": "code",
   "execution_count": 100,
   "metadata": {},
   "outputs": [],
   "source": [
    "for i in range(5000):\n",
    "    x = coin_simulation(N)\n",
    "    coin_toss[x] += (1/5000)"
   ]
  },
  {
   "cell_type": "code",
   "execution_count": 101,
   "metadata": {},
   "outputs": [
    {
     "data": {
      "image/png": "[encoded data removed]",
      "text/plain": [
       "<matplotlib.figure.Figure at 0x224d34d9b70>"
      ]
     },
     "metadata": {},
     "output_type": "display_data"
    }
   ],
   "source": [
    "import matplotlib.pyplot as plt\n",
    "plt.bar(range(N+1), coin_toss)\n",
    "plt.show()"
   ]
  },
  {
   "cell_type": "code",
   "execution_count": 103,
   "metadata": {},
   "outputs": [],
   "source": [
    "coin_toss_cdf = []\n",
    "p = 0\n",
    "for i in coin_toss:\n",
    "    p += i\n",
    "    coin_toss_cdf.append(p)"
   ]
  },
  {
   "cell_type": "code",
   "execution_count": 104,
   "metadata": {},
   "outputs": [
    {
     "data": {
      "image/png": "[encoded data removed]",
      "text/plain": [
       "<matplotlib.figure.Figure at 0x224d38d6eb8>"
      ]
     },
     "metadata": {},
     "output_type": "display_data"
    }
   ],
   "source": [
    "plt.plot(coin_toss_cdf)\n",
    "plt.show()"
   ]
  },
  {
   "cell_type": "code",
   "execution_count": 78,
   "metadata": {},
   "outputs": [],
   "source": [
    "import math\n",
    "def binom_pmf(k,n,p):\n",
    "    f = math.factorial\n",
    "    nCk = f(n) / f(k)\n",
    "    nCk /= f(n-k)\n",
    "    return nCk*(p**k)*((1-p)**(n-k))"
   ]
  },
  {
   "cell_type": "code",
   "execution_count": 94,
   "metadata": {},
   "outputs": [],
   "source": [
    "binom_dist = []\n",
    "for i in range(41):\n",
    "    binom_dist.append(binom_pmf(i,40,0.5))"
   ]
  },
  {
   "cell_type": "code",
   "execution_count": 95,
   "metadata": {},
   "outputs": [
    {
     "data": {
      "image/png": "[encoded data removed]",
      "text/plain": [
       "<matplotlib.figure.Figure at 0x224d37c49e8>"
      ]
     },
     "metadata": {},
     "output_type": "display_data"
    }
   ],
   "source": [
    "plt.bar(range(41), binom_dist)\n",
    "plt.show()"
   ]
  },
  {
   "cell_type": "code",
   "execution_count": 123,
   "metadata": {},
   "outputs": [
    {
     "data": {
      "image/png": "[encoded data removed]",
      "text/plain": [
       "<matplotlib.figure.Figure at 0x224d4ae9e80>"
      ]
     },
     "metadata": {},
     "output_type": "display_data"
    }
   ],
   "source": [
    "binom_cdf = []\n",
    "p = 0\n",
    "for i in binom_dist:\n",
    "    p += i\n",
    "    binom_cdf.append(p)\n",
    "plt.plot(binom_cdf)\n",
    "plt.title(\"Binomial Distribution - CDF\")\n",
    "plt.xlim([12,28])\n",
    "plt.show()"
   ]
  },
  {
   "cell_type": "markdown",
   "metadata": {},
   "source": [
    "## Continous Dist ##\n",
    "### PMF ###\n",
    "\n",
    "\n",
    "$$ f_{\\mu,\\sigma}(x) = \\frac{1}{\\sigma\\sqrt{2\\pi}}e^{\\frac{-(x-\\mu)^2}{2\\sigma^2}}$$\n",
    "\n",
    "\n",
    "\n",
    "\n",
    "\n",
    "### CDF ###\n",
    "\n",
    "\n",
    "$$\\Phi(x) = \\frac{1}{2\\pi}\\int\\limits_{-\\infty}^x e^{\\frac{-t^2}{2}}dt $$"
   ]
  },
  {
   "cell_type": "code",
   "execution_count": 115,
   "metadata": {},
   "outputs": [
    {
     "data": {
      "image/png": "[encoded data removed]",
      "text/plain": [
       "<matplotlib.figure.Figure at 0x224d4a41f28>"
      ]
     },
     "metadata": {},
     "output_type": "display_data"
    }
   ],
   "source": [
    "import numpy as np\n",
    "import scipy.stats as sp\n",
    "x = np.arange(-3,3,0.1)\n",
    "norm_dist = sp.norm(0,1)\n",
    "plt.plot(x,norm_dist.pdf(x))\n",
    "plt.xlim([-3,3])\n",
    "plt.title(\"Normal Distribution - PDF\")\n",
    "plt.show()"
   ]
  },
  {
   "cell_type": "code",
   "execution_count": 117,
   "metadata": {},
   "outputs": [
    {
     "data": {
      "image/png": "[encoded data removed]",
      "text/plain": [
       "<matplotlib.figure.Figure at 0x224d4a4d5c0>"
      ]
     },
     "metadata": {},
     "output_type": "display_data"
    }
   ],
   "source": [
    "plt.plot(x,norm_dist.cdf(x))\n",
    "plt.xlim([-3,3])\n",
    "plt.title(\"Normal Distribution - CDF\")\n",
    "plt.show()"
   ]
  },
  {
   "cell_type": "code",
   "execution_count": 124,
   "metadata": {
    "collapsed": true
   },
   "outputs": [],
   "source": [
    "# We'll Back Latter"
   ]
  },
  {
   "cell_type": "markdown",
   "metadata": {},
   "source": [
    "# T test #\n",
    "The t test (also called Student’s T Test) compares two averages (means) and tells you if they are different from each other. The t test also tells you how significant the differences are; In other words it lets you know if those differences could have happened by chance.\n",
    "\n",
    "## Two sample T Test ##\n",
    "Kita ingin melihat apakah tinggi dari wanita dan pria berbeda secara umum. Kita mengguanak sample dari dua populasi yaitu tinggi pria dan tinggi wanita.\n",
    "\n",
    "### Step-step ###\n",
    "__1. Tentukan null hipotesis dan hipotesis aleternatif__\n",
    " \n",
    "Umumnya, _Null Hypothesis_ dua populasi yang akan di test tidak memiliki perbedaan yang signifikan. Hipotesis alternatifnya adalah kebalikan dari _Null Hypothesis_\n",
    "\n",
    "__2. Ambil data sample__\n",
    "\n",
    "Kita ambil sample dari kedua populasi. Idealnya jumlah sample dari tiap populasi sama.\n",
    "\n",
    "__3. Tentukan confidence interval dan derajat kebebasan__\n",
    "\n",
    "confidence interval biasa disebut alpha ($\\alpha$). nilai $\\alpha$ biasanya $0.05$ ini berarti 95% keyakinan bahwa kesimpulannya valid. derajat kebebasan bisa dihitung dengan formula:\n",
    "$$ df=n_x+n_y-2 $$\n",
    "\n",
    "__4. Hitung t-statistics __\n",
    "$$ t = \\frac{M_x-M_y}{\\sqrt{\\frac{S_x^2}{n_x} + \\frac{S_y^2}{n_y}}} $$\n",
    "\n",
    "\n",
    "$$ S^2 = \\frac{\\sum (x-M)^2}{n-1} $$\n",
    "\n",
    "dimana M adalah mean, $S^2$ adalah variance, n adalah jumlah sample\n",
    "\n",
    "__5. Hitung p-value dari t distribution (pake tabel) __\n",
    "\n",
    "Untung menghitung ini diperlukan nilai t-statistics yang sebelumnya dihitung dan derajat kebebasan. karena di Python, kita tidak perlu liat tabel tinggal panggil fungsi aja.\n",
    "\n",
    "__6. Ambil kesimpulan berdasarkan p-value__\n",
    "\n",
    "Bila p-value $\\le \\alpha$ makan bisa dikatakan hipotesis null ditolak\n"
   ]
  },
  {
   "cell_type": "code",
   "execution_count": 173,
   "metadata": {},
   "outputs": [
    {
     "name": "stdout",
     "output_type": "stream",
     "text": [
      "t = 1.48569477582\n",
      "p = 0.154664310473\n"
     ]
    }
   ],
   "source": [
    "## MAAF TAPI INI BUKAN PAKE TINGGI BADAN ORANG ##\n",
    "N = 10\n",
    "a = np.random.randn(N) + 0.7\n",
    "b = np.random.randn(N)\n",
    "\n",
    "\n",
    "var_a = a.var(ddof=1)\n",
    "var_b = b.var(ddof=1)\n",
    "\n",
    "s = np.sqrt((var_a + var_b)/2)\n",
    "s\n",
    "\n",
    "\n",
    "\n",
    "## hitung t-statistics\n",
    "t = (a.mean() - b.mean())/(s*np.sqrt(2/N))\n",
    "\n",
    "\n",
    "\n",
    "#Derajat kebebasan\n",
    "df = 2*N - 2\n",
    "\n",
    "#hitung p-value\n",
    "p = 1 - stats.t.cdf(t,df=df)\n",
    "\n",
    "\n",
    "print(\"t = \" + str(t))\n",
    "print(\"p = \" + str(2*p))"
   ]
  },
  {
   "cell_type": "code",
   "execution_count": 175,
   "metadata": {},
   "outputs": [
    {
     "name": "stdout",
     "output_type": "stream",
     "text": [
      "t = 1.48569477582\n",
      "p = 0.154664310473\n"
     ]
    }
   ],
   "source": [
    "## Cross Checking with the internal scipy function\n",
    "t2, p2 = stats.ttest_ind(a,b)\n",
    "print(\"t = \" + str(t2))\n",
    "print(\"p = \" + str(p2))"
   ]
  },
  {
   "cell_type": "code",
   "execution_count": null,
   "metadata": {
    "collapsed": true
   },
   "outputs": [],
   "source": []
  },
  {
   "cell_type": "code",
   "execution_count": null,
   "metadata": {
    "collapsed": true
   },
   "outputs": [],
   "source": []
  }
 ],
 "metadata": {
  "kernelspec": {
   "display_name": "Python [conda env:tensorflow]",
   "language": "python",
   "name": "conda-env-tensorflow-py"
  },
  "language_info": {
   "codemirror_mode": {
    "name": "ipython",
    "version": 3
   },
   "file_extension": ".py",
   "mimetype": "text/x-python",
   "name": "python",
   "nbconvert_exporter": "python",
   "pygments_lexer": "ipython3",
   "version": "3.5.3"
  }
 },
 "nbformat": 4,
 "nbformat_minor": 2
}
